{
 "cells": [
  {
   "cell_type": "markdown",
   "metadata": {
    "id": "d4fd95f7"
   },
   "source": [
    "# Gépi Tanulás Klasszifikációs Feladatok Összefoglalója\n",
    "\n",
    "Ez a notebook összefoglalja a két klasszifikációs feladatot:\n",
    "1. Osztályozás szintetikus adatokon.\n",
    "2. Osztályozás a Wine adathalmazon.\n",
    "\n",
    "*Megjegyzés: A kódcellák csak a felhasznált kulcsfontosságú függvényeket és koncepciókat szemléltetik, nem a teljes futtatható kódot.*"
   ]
  },
  {
   "cell_type": "markdown",
   "metadata": {
    "id": "3496b5c6"
   },
   "source": [
    "## Szükséges Könyvtárak Importálása\n",
    "\n",
    "Először importáljuk az összes szükséges könyvtárat mindkét feladathoz."
   ]
  },
  {
   "cell_type": "code",
   "execution_count": null,
   "metadata": {
    "id": "bd22cfde"
   },
   "outputs": [],
   "source": [
    "import numpy as np\n",
    "import pandas as pd\n",
    "import time\n",
    "import os\n",
    "import warnings\n",
    "from sklearn.datasets import make_blobs\n",
    "from sklearn.model_selection import train_test_split, GridSearchCV\n",
    "from sklearn.preprocessing import StandardScaler\n",
    "from sklearn.decomposition import PCA\n",
    "from sklearn.naive_bayes import GaussianNB\n",
    "from sklearn.svm import SVC\n",
    "from sklearn.linear_model import LogisticRegression\n",
    "from sklearn.neighbors import KNeighborsClassifier\n",
    "from sklearn.metrics import accuracy_score, classification_report, confusion_matrix\n",
    "from sklearn.exceptions import ConvergenceWarning\n",
    "import matplotlib.pyplot as plt\n",
    "import seaborn as sns"
   ]
  },
  {
   "cell_type": "markdown",
   "metadata": {
    "id": "c12a9564"
   },
   "source": [
    "# 1. Feladat: Osztályozás Szintetikus Adatokon"
   ]
  },
  {
   "cell_type": "markdown",
   "metadata": {
    "id": "6b1e1eac"
   },
   "source": [
    "## 1.1 Adatgenerálás\n",
    "\n",
    "Létrehozunk egy mesterséges adathalmazt `make_blobs` segítségével."
   ]
  },
  {
   "cell_type": "code",
   "execution_count": null,
   "metadata": {
    "id": "808b8a0a"
   },
   "outputs": [],
   "source": [
    "X_part1, y_part1 = make_blobs(n_samples=..., n_features=..., centers=..., random_state=...)"
   ]
  },
  {
   "cell_type": "markdown",
   "metadata": {
    "id": "2d9ce82f"
   },
   "source": [
    "## 1.2 Adat Vizualizációja (PCA)\n",
    "\n",
    "Főkomponens Analízist (PCA) használunk a dimenziócsökkentésre 2D ábrázoláshoz, `StandardScaler` előzetes alkalmazásával."
   ]
  },
  {
   "cell_type": "code",
   "execution_count": null,
   "metadata": {
    "id": "e07bd7ee"
   },
   "outputs": [],
   "source": [
    "scaler_pca_part1 = StandardScaler()\n",
    "X_scaled_part1 = scaler_pca_part1.fit_transform(X_part1)\n",
    "pca_part1 = PCA(n_components=2, random_state=...)\n",
    "X_pca_part1 = pca_part1.fit_transform(X_scaled_part1)\n",
    "plt.figure(...)\n",
    "plt.scatter(X_pca_part1[:, 0], X_pca_part1[:, 1], c=y_part1, ...)\n",
    "plt.title('1. Feladat - Generált adathalmaz (PCA után)')"
   ]
  },
  {
   "cell_type": "markdown",
   "metadata": {
    "id": "44d9609c"
   },
   "source": [
    "## 1.3 Adat Felosztása és Skálázása\n",
    "\n",
    "Az eredeti adatokat tanító és teszt halmazra osztjuk (`train_test_split`), majd `StandardScaler`-rel skálázzuk."
   ]
  },
  {
   "cell_type": "code",
   "execution_count": null,
   "metadata": {
    "id": "4fa774b6"
   },
   "outputs": [],
   "source": [
    "X_train_part1, X_test_part1, y_train_part1, y_test_part1 = train_test_split(\n",
    "    X_part1, y_part1, test_size=0.3, random_state=..., stratify=y_part1\n",
    ")\n",
    "scaler_model_part1 = StandardScaler()\n",
    "X_train_scaled_part1 = scaler_model_part1.fit_transform(X_train_part1)\n",
    "X_test_scaled_part1 = scaler_model_part1.transform(X_test_part1)"
   ]
  },
  {
   "cell_type": "markdown",
   "metadata": {
    "id": "69cd4ded"
   },
   "source": [
    "## 1.4 Modellek Tanítása és Kiértékelése\n",
    "\n",
    "Definiáljuk, tanítjuk (`fit`) és kiértékeljük (`predict`, `accuracy_score`, `classification_report`, `confusion_matrix`) a Naiv Bayes, SVM és Logisztikus Regresszió modelleket."
   ]
  },
  {
   "cell_type": "code",
   "execution_count": null,
   "metadata": {
    "id": "4342fe31"
   },
   "outputs": [],
   "source": [
    "models_part1 = {\n",
    "    \"Naive Bayes\": GaussianNB(),\n",
    "    \"Support Vector Machine\": SVC(random_state=..., probability=True),\n",
    "    \"Logistic Regression\": LogisticRegression(random_state=..., max_iter=1000)\n",
    "}\n",
    "for name, model in models_part1.items():\n",
    "    start_time = time.time()\n",
    "    model.fit(X_train_scaled_part1, y_train_part1)\n",
    "    end_time = time.time()\n",
    "    y_pred_train_part1 = model.predict(X_train_scaled_part1)\n",
    "    y_pred_test_part1 = model.predict(X_test_scaled_part1)\n",
    "    accuracy_train_part1 = accuracy_score(y_train_part1, y_pred_train_part1)\n",
    "    accuracy_test_part1 = accuracy_score(y_test_part1, y_pred_test_part1)\n",
    "    report_test_part1 = classification_report(y_test_part1, y_pred_test_part1)\n",
    "    cm_test_part1 = confusion_matrix(y_test_part1, y_pred_test_part1)\n",
    "    sns.heatmap(cm_test_part1, annot=True, ...)"
   ]
  },
  {
   "cell_type": "markdown",
   "metadata": {
    "id": "453c9014"
   },
   "source": [
    "## 1.5 Eredmények Összefoglalása\n",
    "\n",
    "Összefoglaljuk a modellek tanítási idejét és pontosságát szövegesen."
   ]
  },
  {
   "cell_type": "code",
   "execution_count": null,
   "metadata": {
    "id": "5999c706"
   },
   "outputs": [],
   "source": [
    "print(\"\\n--- 1. Feladat: Összehasonlítás ---\")\n",
    "print(f\"{'Modell':<25} {'Tanítási idő (s)':<20} ...\")\n",
    "for name in results_part1.keys():\n",
    "    print(f\"{name:<25} {training_time:<20.4f} ...\")"
   ]
  },
  {
   "cell_type": "markdown",
   "metadata": {
    "id": "0ffc348f"
   },
   "source": [
    "## 1.6 SVM Hiperparaméter-Hangolás ('C')\n",
    "\n",
    "`GridSearchCV` segítségével megkeressük az SVM modell optimális `C` paraméterét."
   ]
  },
  {
   "cell_type": "code",
   "execution_count": null,
   "metadata": {
    "id": "08f5e6fb"
   },
   "outputs": [],
   "source": [
    "param_grid_svm_part1 = {'C': [0.01, 0.1, 1, 10, 100]}\n",
    "svm_cv_part1 = SVC(random_state=..., probability=True)\n",
    "grid_search_part1 = GridSearchCV(svm_cv_part1, param_grid_svm_part1, cv=5, scoring='accuracy')\n",
    "grid_search_part1.fit(X_train_scaled_part1, y_train_part1)\n",
    "best_c = grid_search_part1.best_params_['C']\n",
    "best_score = grid_search_part1.best_score_\n",
    "print(f\"Legjobb 'C': {best_c}, Legjobb CV pontosság: {best_score:.4f}\")\n",
    "best_svm_part1 = grid_search_part1.best_estimator_\n",
    "accuracy_svm_best_test_part1 = best_svm_part1.score(X_test_scaled_part1, y_test_part1)\n",
    "print(f\"Legjobb SVM teszt pontosság: {accuracy_svm_best_test_part1:.4f}\")"
   ]
  },
  {
   "cell_type": "markdown",
   "metadata": {
    "id": "1ca592d8"
   },
   "source": [
    "## 1.7 Logisztikus Regresszió Iterációk Hatása\n",
    "\n",
    "Megvizsgáljuk, hogyan befolyásolja a `max_iter` paraméter a Logisztikus Regresszió pontosságát."
   ]
  },
  {
   "cell_type": "code",
   "execution_count": null,
   "metadata": {
    "id": "c4e8368e"
   },
   "outputs": [],
   "source": [
    "iterations_part1 = [1, 2, 5, 10, ..., 1000]\n",
    "for n_iter in iterations_part1:\n",
    "    lr_iter_part1 = LogisticRegression(random_state=..., max_iter=n_iter)\n",
    "    lr_iter_part1.fit(X_train_scaled_part1, y_train_part1)\n",
    "    train_acc = lr_iter_part1.score(X_train_scaled_part1, y_train_part1)\n",
    "    test_acc = lr_iter_part1.score(X_test_scaled_part1, y_test_part1)\n",
    "plt.plot(iterations_part1, train_accuracies_lr_part1, ...)\n",
    "plt.plot(iterations_part1, test_accuracies_lr_part1, ...)"
   ]
  },
  {
   "cell_type": "markdown",
   "metadata": {
    "id": "4e9baa49"
   },
   "source": [
    "## 1.8 Döntési Határok Vizualizációja\n",
    "\n",
    "Kirajzoljuk a modellek döntési határait a 2D PCA-val redukált adatokon (`contourf`)."
   ]
  },
  {
   "cell_type": "code",
   "execution_count": null,
   "metadata": {
    "id": "3281aa4b"
   },
   "outputs": [],
   "source": [
    "X_train_pca_part1, X_test_pca_part1, y_train_pca_part1, y_test_pca_part1 = train_test_split(...)\n",
    "models_pca_part1 = { ... }\n",
    "xx, yy = np.meshgrid(...)\n",
    "fig, axes = plt.subplots(...)\n",
    "for idx, (name, model_pca) in enumerate(models_pca_part1.items()):\n",
    "    model_pca.fit(X_train_pca_part1, y_train_pca_part1)\n",
    "    Z = model_pca.predict(np.c_[xx.ravel(), yy.ravel()])\n",
    "    Z = Z.reshape(xx.shape)\n",
    "    ax = axes[idx]\n",
    "    ax.contourf(xx, yy, Z, ...)\n",
    "    ax.scatter(X_train_pca_part1[:, 0], ..., c=y_train_pca_part1, ...)\n",
    "    ax.scatter(X_test_pca_part1[:, 0], ..., c=y_test_pca_part1, ...)\n",
    "    ax.set_title(name)"
   ]
  },
  {
   "cell_type": "markdown",
   "metadata": {
    "id": "c1db7e8a"
   },
   "source": [
    "# 2. Feladat: Osztályozás a Wine Adathalmazon"
   ]
  },
  {
   "cell_type": "markdown",
   "metadata": {
    "id": "983c7ae1"
   },
   "source": [
    "## 2.1 Adat Betöltése\n",
    "\n",
    "Betöltjük a Wine adathalmazt URL-ről `pandas.read_csv` segítségével."
   ]
  },
  {
   "cell_type": "code",
   "execution_count": null,
   "metadata": {
    "id": "0a87245e"
   },
   "outputs": [],
   "source": [
    "url_part2 = \"https://archive.ics.uci.edu/ml/.../wine.data\"\n",
    "column_names_part2 = ['Class', 'Alcohol', ...]\n",
    "try:\n",
    "    df_part2 = pd.read_csv(url_part2, header=None, names=column_names_part2)\n",
    "    print(\"Wine adathalmaz betöltve.\")\n",
    "except Exception as e:\n",
    "    print(f\"Hiba: {e}\")"
   ]
  },
  {
   "cell_type": "markdown",
   "metadata": {
    "id": "1ffc13cf"
   },
   "source": [
    "## 2.2 Adat Vizualizációja (PCA)\n",
    "\n",
    "PCA-t alkalmazunk a Wine adathalmaz jellemzőire is a 2D vizualizációhoz (`StandardScaler`, `PCA`, `plt.scatter`)."
   ]
  },
  {
   "cell_type": "code",
   "execution_count": null,
   "metadata": {
    "id": "14c54edc"
   },
   "outputs": [],
   "source": [
    "X_viz_part2 = df_part2.drop('Class', axis=1)\n",
    "y_viz_part2 = df_part2['Class']\n",
    "scaler_pca_part2 = StandardScaler()\n",
    "X_viz_scaled_part2 = scaler_pca_part2.fit_transform(X_viz_part2)\n",
    "pca_part2 = PCA(n_components=2, random_state=...)\n",
    "X_pca_part2 = pca_part2.fit_transform(X_viz_scaled_part2)\n",
    "plt.figure(...)\n",
    "plt.scatter(X_pca_part2[:, 0], X_pca_part2[:, 1], c=y_viz_part2, ...)\n",
    "plt.title('2. Feladat - Wine adathalmaz (PCA után)')"
   ]
  },
  {
   "cell_type": "markdown",
   "metadata": {
    "id": "87c20ab5"
   },
   "source": [
    "## 2.3 Adat Felosztása és Skálázása\n",
    "\n",
    "Felosztjuk a Wine adatokat tanító és teszt halmazra (`train_test_split`), majd skálázzuk (`StandardScaler`)."
   ]
  },
  {
   "cell_type": "code",
   "execution_count": null,
   "metadata": {
    "id": "bb69a094"
   },
   "outputs": [],
   "source": [
    "X_part2 = df_part2.drop('Class', axis=1)\n",
    "y_part2 = df_part2['Class']\n",
    "X_train_part2, X_test_part2, y_train_part2, y_test_part2 = train_test_split(...)\n",
    "scaler_model_part2 = StandardScaler()\n",
    "X_train_scaled_part2 = scaler_model_part2.fit_transform(X_train_part2)\n",
    "X_test_scaled_part2 = scaler_model_part2.transform(X_test_part2)"
   ]
  },
  {
   "cell_type": "markdown",
   "metadata": {
    "id": "a05b76b1"
   },
   "source": [
    "## 2.4 Modellek Tanítása és Kiértékelése\n",
    "\n",
    "Tanítjuk és kiértékeljük a modelleket (NB, SVM, LogReg, k-NN) a Wine adathalmazon."
   ]
  },
  {
   "cell_type": "code",
   "execution_count": null,
   "metadata": {
    "id": "38b9bc50"
   },
   "outputs": [],
   "source": [
    "models_part2 = {\n",
    "    \"Naive Bayes\": GaussianNB(),\n",
    "    \"Support Vector Machine\": SVC(random_state=..., probability=True),\n",
    "    \"Logistic Regression\": LogisticRegression(random_state=..., max_iter=10000),\n",
    "    \"k-Nearest Neighbors\": KNeighborsClassifier(n_neighbors=5)\n",
    "}\n",
    "for name, model in models_part2.items():\n",
    "    model.fit(X_train_scaled_part2, y_train_part2)\n",
    "    accuracy_score(...)\n",
    "    classification_report(...)\n",
    "    confusion_matrix(...)\n",
    "    sns.heatmap(cm_test_part2, annot=True, ...)"
   ]
  },
  {
   "cell_type": "markdown",
   "metadata": {
    "id": "b45726f9"
   },
   "source": [
    "## 2.5 Eredmények Összefoglalása\n",
    "\n",
    "Összefoglaljuk a Wine adathalmazon elért eredményeket szövegesen."
   ]
  },
  {
   "cell_type": "code",
   "execution_count": null,
   "metadata": {
    "id": "15ccac8b"
   },
   "outputs": [],
   "source": [
    "print(\"\\n--- 2. Feladat: Összehasonlítás ---\")\n",
    "for name in results_part2.keys():\n",
    "    print(f\"{name:<25} {training_time:<20.4f} ...\")"
   ]
  },
  {
   "cell_type": "markdown",
   "metadata": {
    "id": "e765eabf"
   },
   "source": [
    "## 2.6 Logisztikus Regresszió Iterációk Hatása\n",
    "\n",
    "Megvizsgáljuk a Logisztikus Regresszió konvergenciáját a Wine adathalmazon."
   ]
  },
  {
   "cell_type": "code",
   "execution_count": null,
   "metadata": {
    "id": "3fb68926"
   },
   "outputs": [],
   "source": [
    "iterations_lr_part2 = [1, 5, ..., 10000]\n",
    "for n_iter in iterations_lr_part2:\n",
    "    lr_iter_part2 = LogisticRegression(max_iter=n_iter, ...)\n",
    "    lr_iter_part2.fit(...)\n",
    "    train_acc = lr_iter_part2.score(...)\n",
    "    test_acc = lr_iter_part2.score(...)\n",
    "plt.plot(iterations_lr_part2, train_accuracies_lr_part2, ...)\n",
    "plt.plot(iterations_lr_part2, test_accuracies_lr_part2, ...)"
   ]
  },
  {
   "cell_type": "markdown",
   "metadata": {
    "id": "45dd92f8"
   },
   "source": [
    "## 2.7 SVM Hiperparaméter-Hangolás ('C' és 'gamma')\n",
    "\n",
    "`GridSearchCV` segítségével megkeressük az SVM modell optimális `C` és `gamma` paramétereit."
   ]
  },
  {
   "cell_type": "code",
   "execution_count": null,
   "metadata": {
    "id": "1c64d69a"
   },
   "outputs": [],
   "source": [
    "param_grid_svm_part2 = {\n",
    "    'C': [0.1, 1, 10, 100],\n",
    "    'gamma': ['scale', 'auto', 0.1, 1],\n",
    "    'kernel': ['rbf']\n",
    "}\n",
    "svm_cv_part2 = SVC(probability=True)\n",
    "grid_search_svm_part2 = GridSearchCV(estimator=svm_cv_part2, param_grid=..., cv=5, ...)\n",
    "grid_search_svm_part2.fit(X_train_scaled_part2, y_train_part2)\n",
    "best_params = grid_search_svm_part2.best_params_\n",
    "best_score = grid_search_svm_part2.best_score_\n",
    "print(f\"Legjobb paraméterek: {best_params}, Legjobb CV pontosság: {best_score:.4f}\")\n",
    "best_svm_part2 = grid_search_svm_part2.best_estimator_\n",
    "accuracy_svm_best_test_part2 = best_svm_part2.score(X_test_scaled_part2, y_test_part2)\n",
    "print(f\"Legjobb SVM teszt pontosság: {accuracy_svm_best_test_part2:.4f}\")\n",
    "sns.heatmap(confusion_matrix(...), annot=True, ...)"
   ]
  },
  {
   "cell_type": "markdown",
   "metadata": {
    "id": "f3c04b6c"
   },
   "source": [
    "## 2.8 SVM Hangolás Vizualizációja (Heatmap)\n",
    "\n",
    "Heatmap segítségével ábrázoljuk (`seaborn.heatmap`), hogyan változott az SVM keresztvalidációs pontossága a `C` és `gamma` paraméterekre."
   ]
  },
  {
   "cell_type": "code",
   "execution_count": null,
   "metadata": {
    "id": "b27e00b4"
   },
   "outputs": [],
   "source": [
    "results_df_part2 = pd.DataFrame(grid_search_svm_part2.cv_results_)\n",
    "results_df_part2 = results_df_part2[['param_C', 'param_gamma', 'mean_test_score']]\n",
    "try:\n",
    "    scores_part2 = results_df_part2.pivot(index='param_C', columns='param_gamma', values='mean_test_score')\n",
    "    sns.heatmap(scores_part2, annot=True, fmt=\".4f\", cmap=\"viridis\")\n",
    "    plt.title('2. Feladat - SVM Keresztvalidációs Pontosság (Heatmap)')\n",
    "except Exception as e:\n",
    "    pass"
   ]
  },
  {
   "cell_type": "markdown",
   "metadata": {
    "id": "114dc959"
   },
   "source": [
    "## 2.9 Döntési Határok Vizualizációja\n",
    "\n",
    "Kirajzoljuk a modellek döntési határait a Wine adathalmaz PCA-val redukált változatán (`contourf`)."
   ]
  },
  {
   "cell_type": "code",
   "execution_count": null,
   "metadata": {
    "id": "c8eb12b0"
   },
   "outputs": [],
   "source": [
    "X_train_pca_part2, X_test_pca_part2, y_train_pca_part2, y_test_pca_part2 = train_test_split(...)\n",
    "models_pca_part2 = { ... }\n",
    "xx_part2, yy_part2 = np.meshgrid(...)\n",
    "fig, axes = plt.subplots(...)\n",
    "for idx, (name, model_pca) in enumerate(models_pca_part2.items()):\n",
    "    model_pca.fit(X_train_pca_part2, y_train_pca_part2)\n",
    "    Z_part2 = model_pca.predict(...)\n",
    "    Z_part2 = Z_part2.reshape(xx_part2.shape)\n",
    "    ax = axes[idx]\n",
    "    ax.contourf(xx_part2, yy_part2, Z_part2, ...)\n",
    "    ax.scatter(X_train_pca_part2[:, 0], ...)\n",
    "    ax.scatter(X_test_pca_part2[:, 0], ...)\n",
    "    ax.set_title(name)"
   ]
  }
 ],
 "metadata": {
  "kernelspec": {
   "display_name": "Python 3",
   "language": "python",
   "name": "python3"
  },
  "language_info": {
   "codemirror_mode": {
    "name": "ipython",
    "version": 3
   },
   "file_extension": ".py",
   "mimetype": "text/x-python",
   "name": "python",
   "nbconvert_exporter": "python",
   "pygments_lexer": "ipython3",
   "version": "3.x.x"
  }
 },
 "nbformat": 4,
 "nbformat_minor": 2
}
